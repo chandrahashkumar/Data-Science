{
    "cells": [
        {
            "cell_type": "code",
            "execution_count": 2,
            "metadata": {
                "id": "81a55f92-3411-4fc6-bc7a-0b8dcf67a8c9"
            },
            "outputs": [
                {
                    "name": "stdout",
                    "output_type": "stream",
                    "text": "Hello World!\n"
                }
            ],
            "source": "print(\"Hello World!\")"
        },
        {
            "cell_type": "code",
            "execution_count": 3,
            "metadata": {
                "id": "79bcca15-88c4-49ff-9880-7b4e9909d6d5"
            },
            "outputs": [
                {
                    "name": "stdin",
                    "output_type": "stream",
                    "text": "Enter your name:  Chandrahsh Kumar\n"
                },
                {
                    "name": "stdout",
                    "output_type": "stream",
                    "text": "Hello Chandrahsh Kumar\n"
                }
            ],
            "source": "name = input(\"Enter your name: \")\nprint(f\"Hello {name}\")"
        },
        {
            "cell_type": "code",
            "execution_count": null,
            "metadata": {
                "id": "26ff98bd-30ee-4797-9207-39a8bcca8ef7"
            },
            "outputs": [],
            "source": ""
        }
    ],
    "metadata": {
        "kernelspec": {
            "display_name": "Python 3.11",
            "language": "python",
            "name": "python3"
        },
        "language_info": {
            "codemirror_mode": {
                "name": "ipython",
                "version": 3
            },
            "file_extension": ".py",
            "mimetype": "text/x-python",
            "name": "python",
            "nbconvert_exporter": "python",
            "pygments_lexer": "ipython3",
            "version": "3.11.9"
        }
    },
    "nbformat": 4,
    "nbformat_minor": 4
}